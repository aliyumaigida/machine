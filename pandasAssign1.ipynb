{
 "cells": [
  {
   "cell_type": "markdown",
   "id": "b3c09838",
   "metadata": {},
   "source": [
    "<!-- Assignment 1\n",
    "Create a Series object from a list of 10 items using a customized index values.\n",
    "Create a Series object from a dictionary of 10 items.\n",
    "Create a DataFrame object from a Series object with a customized index values\n",
    "Create a DataFrame object generated from random values of 5 rows by 5 columns numpy array. Give each columns a title and each index a name.\n",
    "Separate the DataFrame in number 4 to its individual Index, Values and Colomns -->"
   ]
  },
  {
   "cell_type": "code",
   "execution_count": 2,
   "id": "5379108e",
   "metadata": {},
   "outputs": [],
   "source": [
    "import numpy as np\n",
    "import pandas as pd"
   ]
  },
  {
   "cell_type": "code",
   "execution_count": 3,
   "id": "dcefe2ea",
   "metadata": {},
   "outputs": [
    {
     "data": {
      "text/plain": [
       "A     100\n",
       "B     200\n",
       "C     300\n",
       "D     400\n",
       "E     500\n",
       "F     600\n",
       "G     700\n",
       "H     800\n",
       "I     900\n",
       "J    1000\n",
       "dtype: int64"
      ]
     },
     "execution_count": 3,
     "metadata": {},
     "output_type": "execute_result"
    }
   ],
   "source": [
    "# 1. Create a Series object from a list of 10 items using a customized index values.\n",
    "Datarecord = pd.Series([100, 200, 300, 400, 500, 600, 700, 800, 900, 1000], index=[\"A\", \"B\", \"C\", \"D\", \"E\", \"F\", \"G\", \"H\", \"I\", \"J\"] )\n",
    "Datarecord"
   ]
  },
  {
   "cell_type": "code",
   "execution_count": 3,
   "id": "8c9ac372",
   "metadata": {},
   "outputs": [
    {
     "data": {
      "text/plain": [
       "Aliyu      22\n",
       "Shalom     17\n",
       "Samuel     25\n",
       "Umar       36\n",
       "Meshak     34\n",
       "Ibrahim    23\n",
       "Ayo        29\n",
       "Grace      20\n",
       "Joshua     30\n",
       "Daniel     25\n",
       "dtype: int64"
      ]
     },
     "execution_count": 3,
     "metadata": {},
     "output_type": "execute_result"
    }
   ],
   "source": [
    "# 2. Create a Series object from a dictionary of 10 items.\n",
    "studentNameAge = {'Aliyu':22, 'Shalom':17, 'Samuel':25, 'Umar':36, 'Meshak':34, 'Ibrahim':23, \"Ayo\":29, \"Grace\":20, \"Joshua\":30, \"Daniel\":25 }\n",
    "Name = pd.Series(studentNameAge)\n",
    "Name"
   ]
  },
  {
   "cell_type": "code",
   "execution_count": 4,
   "id": "61cbb011",
   "metadata": {},
   "outputs": [
    {
     "data": {
      "text/html": [
       "<div>\n",
       "<style scoped>\n",
       "    .dataframe tbody tr th:only-of-type {\n",
       "        vertical-align: middle;\n",
       "    }\n",
       "\n",
       "    .dataframe tbody tr th {\n",
       "        vertical-align: top;\n",
       "    }\n",
       "\n",
       "    .dataframe thead th {\n",
       "        text-align: right;\n",
       "    }\n",
       "</style>\n",
       "<table border=\"1\" class=\"dataframe\">\n",
       "  <thead>\n",
       "    <tr style=\"text-align: right;\">\n",
       "      <th></th>\n",
       "      <th>0</th>\n",
       "    </tr>\n",
       "  </thead>\n",
       "  <tbody>\n",
       "    <tr>\n",
       "      <th>1</th>\n",
       "      <td>Jupiter</td>\n",
       "    </tr>\n",
       "    <tr>\n",
       "      <th>2</th>\n",
       "      <td>Mars</td>\n",
       "    </tr>\n",
       "    <tr>\n",
       "      <th>3</th>\n",
       "      <td>Earth</td>\n",
       "    </tr>\n",
       "    <tr>\n",
       "      <th>4</th>\n",
       "      <td>Saturn</td>\n",
       "    </tr>\n",
       "    <tr>\n",
       "      <th>5</th>\n",
       "      <td>Mercury</td>\n",
       "    </tr>\n",
       "    <tr>\n",
       "      <th>6</th>\n",
       "      <td>Uranus</td>\n",
       "    </tr>\n",
       "    <tr>\n",
       "      <th>7</th>\n",
       "      <td>Venus</td>\n",
       "    </tr>\n",
       "    <tr>\n",
       "      <th>8</th>\n",
       "      <td>Neptune</td>\n",
       "    </tr>\n",
       "    <tr>\n",
       "      <th>9</th>\n",
       "      <td>Pluto</td>\n",
       "    </tr>\n",
       "  </tbody>\n",
       "</table>\n",
       "</div>"
      ],
      "text/plain": [
       "         0\n",
       "1  Jupiter\n",
       "2     Mars\n",
       "3    Earth\n",
       "4   Saturn\n",
       "5  Mercury\n",
       "6   Uranus\n",
       "7    Venus\n",
       "8  Neptune\n",
       "9    Pluto"
      ]
     },
     "execution_count": 4,
     "metadata": {},
     "output_type": "execute_result"
    }
   ],
   "source": [
    "# 3. Create a DataFrame object from a Series object with a customized index values\n",
    "\n",
    "planet = pd.Series(['Jupiter', 'Mars', 'Earth', 'Saturn', 'Mercury', 'Uranus','Venus', 'Neptune', 'Pluto'], index=[1, 2, 3, 4, 5, 6, 7, 8, 9])\n",
    "df =pd.DataFrame(planet)\n",
    "df"
   ]
  },
  {
   "cell_type": "code",
   "execution_count": 6,
   "id": "8e1df99e",
   "metadata": {},
   "outputs": [
    {
     "data": {
      "text/html": [
       "<div>\n",
       "<style scoped>\n",
       "    .dataframe tbody tr th:only-of-type {\n",
       "        vertical-align: middle;\n",
       "    }\n",
       "\n",
       "    .dataframe tbody tr th {\n",
       "        vertical-align: top;\n",
       "    }\n",
       "\n",
       "    .dataframe thead th {\n",
       "        text-align: right;\n",
       "    }\n",
       "</style>\n",
       "<table border=\"1\" class=\"dataframe\">\n",
       "  <thead>\n",
       "    <tr style=\"text-align: right;\">\n",
       "      <th></th>\n",
       "      <th>Micheal</th>\n",
       "      <th>Amos</th>\n",
       "      <th>Aliyu</th>\n",
       "      <th>jarmai</th>\n",
       "      <th>maigida</th>\n",
       "    </tr>\n",
       "  </thead>\n",
       "  <tbody>\n",
       "    <tr>\n",
       "      <th>row1</th>\n",
       "      <td>0.921591</td>\n",
       "      <td>0.292874</td>\n",
       "      <td>0.031692</td>\n",
       "      <td>0.847414</td>\n",
       "      <td>0.460356</td>\n",
       "    </tr>\n",
       "    <tr>\n",
       "      <th>row2</th>\n",
       "      <td>0.961066</td>\n",
       "      <td>0.031231</td>\n",
       "      <td>0.540235</td>\n",
       "      <td>0.834689</td>\n",
       "      <td>0.330959</td>\n",
       "    </tr>\n",
       "    <tr>\n",
       "      <th>row3</th>\n",
       "      <td>0.906471</td>\n",
       "      <td>0.478306</td>\n",
       "      <td>0.969139</td>\n",
       "      <td>0.038216</td>\n",
       "      <td>0.940394</td>\n",
       "    </tr>\n",
       "    <tr>\n",
       "      <th>row4</th>\n",
       "      <td>0.144302</td>\n",
       "      <td>0.631728</td>\n",
       "      <td>0.293511</td>\n",
       "      <td>0.699717</td>\n",
       "      <td>0.911345</td>\n",
       "    </tr>\n",
       "    <tr>\n",
       "      <th>row5</th>\n",
       "      <td>0.823522</td>\n",
       "      <td>0.432524</td>\n",
       "      <td>0.368677</td>\n",
       "      <td>0.821783</td>\n",
       "      <td>0.083924</td>\n",
       "    </tr>\n",
       "  </tbody>\n",
       "</table>\n",
       "</div>"
      ],
      "text/plain": [
       "       Micheal      Amos     Aliyu    jarmai   maigida\n",
       "row1  0.921591  0.292874  0.031692  0.847414  0.460356\n",
       "row2  0.961066  0.031231  0.540235  0.834689  0.330959\n",
       "row3  0.906471  0.478306  0.969139  0.038216  0.940394\n",
       "row4  0.144302  0.631728  0.293511  0.699717  0.911345\n",
       "row5  0.823522  0.432524  0.368677  0.821783  0.083924"
      ]
     },
     "execution_count": 6,
     "metadata": {},
     "output_type": "execute_result"
    }
   ],
   "source": [
    "# 4. Create a DataFrame object generated from random values of 5 rows by 5 columns numpy array. Give each columns a title and each index a name.\n",
    "\n",
    "studentName = pd.DataFrame(np.random.rand(5,5), columns=['Micheal', \"Amos\", \"Aliyu\", \"jarmai\", \"maigida\"], index=['row1', 'row2', 'row3', \"row4\", \"row5\"])\n",
    "studentName\n"
   ]
  },
  {
   "cell_type": "code",
   "execution_count": 7,
   "id": "3a02cb30",
   "metadata": {},
   "outputs": [
    {
     "data": {
      "text/plain": [
       "Index(['row1', 'row2', 'row3', 'row4', 'row5'], dtype='object')"
      ]
     },
     "execution_count": 7,
     "metadata": {},
     "output_type": "execute_result"
    }
   ],
   "source": [
    "# 5. Separate the DataFrame in number 4 to its individual Index, Values and Colomns\n",
    "studentName.index\n"
   ]
  },
  {
   "cell_type": "code",
   "execution_count": 8,
   "id": "7d64126c",
   "metadata": {},
   "outputs": [
    {
     "data": {
      "text/plain": [
       "array([[0.92159129, 0.29287358, 0.03169152, 0.84741393, 0.46035581],\n",
       "       [0.96106554, 0.03123124, 0.54023535, 0.83468923, 0.33095901],\n",
       "       [0.90647067, 0.47830631, 0.96913881, 0.03821641, 0.94039372],\n",
       "       [0.14430204, 0.63172824, 0.29351056, 0.69971681, 0.9113452 ],\n",
       "       [0.82352222, 0.43252427, 0.3686768 , 0.82178271, 0.08392377]])"
      ]
     },
     "execution_count": 8,
     "metadata": {},
     "output_type": "execute_result"
    }
   ],
   "source": [
    "studentName.values"
   ]
  },
  {
   "cell_type": "code",
   "execution_count": 10,
   "id": "3f4d11b7",
   "metadata": {},
   "outputs": [
    {
     "data": {
      "text/plain": [
       "Index(['Micheal', 'Amos', 'Aliyu', 'jarmai', 'maigida'], dtype='object')"
      ]
     },
     "execution_count": 10,
     "metadata": {},
     "output_type": "execute_result"
    }
   ],
   "source": [
    "studentName.columns"
   ]
  }
 ],
 "metadata": {
  "kernelspec": {
   "display_name": "Python 3 (ipykernel)",
   "language": "python",
   "name": "python3"
  },
  "language_info": {
   "codemirror_mode": {
    "name": "ipython",
    "version": 3
   },
   "file_extension": ".py",
   "mimetype": "text/x-python",
   "name": "python",
   "nbconvert_exporter": "python",
   "pygments_lexer": "ipython3",
   "version": "3.11.5"
  }
 },
 "nbformat": 4,
 "nbformat_minor": 5
}
